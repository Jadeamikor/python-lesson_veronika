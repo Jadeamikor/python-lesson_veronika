{
 "cells": [
  {
   "cell_type": "code",
   "execution_count": 1,
   "metadata": {},
   "outputs": [
    {
     "data": {
      "image/png": "[encoded data removed]",
      "text/plain": [
       "<Figure size 432x288 with 1 Axes>"
      ]
     },
     "metadata": {
      "needs_background": "light"
     },
     "output_type": "display_data"
    }
   ],
   "source": [
    "import urllib.request\n",
    "import pandas as pd\n",
    "import matplotlib.pyplot as plt\n",
    "\n",
    "gff_files_and_source_urls = {\"S_aureus.gff.gz\" : \"ftp://ftp.ncbi.nlm.nih.gov/genomes/all/GCF/000/013/425/GCF_000013425.1_ASM1342v1/GCF_000013425.1_ASM1342v1_genomic.gff.gz\",\n",
    "                           \"S_typhimurium.gff.gz\" : \"ftp://ftp.ncbi.nlm.nih.gov/genomes/all/GCF/000/195/995/GCF_000195995.1_ASM19599v1/GCF_000195995.1_ASM19599v1_genomic.gff.gz\",\n",
    "                           \"E_coli.gff.gz\":\"ftp://ftp.ncbi.nlm.nih.gov/genomes/refseq/bacteria/Escherichia_coli/reference/GCF_000005845.2_ASM584v2/GCF_000005845.2_ASM584v2_genomic.gff.gz\"}\n",
    "\n",
    "\n",
    "for gff_file, source_url in gff_files_and_source_urls.items():\n",
    "    urllib.request.urlretrieve (source_url, gff_file)\n",
    "    gff_data = pd.read_csv(gff_file,\n",
    "                       sep=\"\\t\", \n",
    "                       comment='#', \n",
    "                       names=[\"seqid\", \"source\", \"type\", \"start\", \"end\", \"score\", \"strand\", \"phase\", \"attributes\"])\n",
    " \n",
    "    gff_data[\"length\"] = gff_data[\"end\"] - gff_data[\"start\"] + 1\n",
    "    gene_data = gff_data[gff_data[\"type\"] == \"gene\"]\n",
    "    gene_data = gene_data[gene_data[\"strand\"] == \"+\"]\n",
    "    ax = gene_data[\"length\"].hist(bins=30, color=\"black\")\n",
    "    #plt.show()\n",
    "    fig = ax.get_figure()\n",
    "        \n",
    "    basename = gff_file.split(\".\")[0]    \n",
    "    \n",
    "    fig.savefig(basename + \".png\")"
   ]
  },
  {
   "cell_type": "code",
   "execution_count": null,
   "metadata": {},
   "outputs": [],
   "source": []
  }
 ],
 "metadata": {
  "kernelspec": {
   "display_name": "Python 3",
   "language": "python",
   "name": "python3"
  },
  "language_info": {
   "codemirror_mode": {
    "name": "ipython",
    "version": 3
   },
   "file_extension": ".py",
   "mimetype": "text/x-python",
   "name": "python",
   "nbconvert_exporter": "python",
   "pygments_lexer": "ipython3",
   "version": "3.8.5"
  }
 },
 "nbformat": 4,
 "nbformat_minor": 4
}
